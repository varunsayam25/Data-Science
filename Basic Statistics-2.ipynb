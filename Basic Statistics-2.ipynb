{
 "cells": [
  {
   "cell_type": "code",
   "execution_count": 8,
   "id": "30abccde-3d6b-4ed9-902c-5c94e37ae071",
   "metadata": {},
   "outputs": [],
   "source": [
    "import scipy.stats as stats\n",
    "import numpy as np\n",
    "import math"
   ]
  },
  {
   "cell_type": "code",
   "execution_count": 13,
   "id": "0b0575df-a3d8-4e47-a9f6-5a846bdf96fb",
   "metadata": {},
   "outputs": [
    {
     "data": {
      "text/plain": [
       "[1.13,\n",
       " 1.55,\n",
       " 1.43,\n",
       " 0.92,\n",
       " 1.25,\n",
       " 1.36,\n",
       " 1.32,\n",
       " 0.85,\n",
       " 1.07,\n",
       " 1.48,\n",
       " 1.2,\n",
       " 1.33,\n",
       " 1.18,\n",
       " 1.22,\n",
       " 1.29]"
      ]
     },
     "execution_count": 13,
     "metadata": {},
     "output_type": "execute_result"
    }
   ],
   "source": [
    "#Task-1\n",
    "sample_data=[1.13, 1.55, 1.43, 0.92, 1.25, 1.36, 1.32, 0.85, 1.07, 1.48, 1.20, 1.33, 1.18, 1.22, 1.29]\n",
    "sample_data"
   ]
  },
  {
   "cell_type": "code",
   "execution_count": 5,
   "id": "d0773771-fd8d-4de8-bd45-3faeade5553d",
   "metadata": {},
   "outputs": [
    {
     "data": {
      "text/plain": [
       "-2.9768427341126604"
      ]
     },
     "execution_count": 5,
     "metadata": {},
     "output_type": "execute_result"
    }
   ],
   "source": [
    "# Critical Value\n",
    "t_critical= stats.t.ppf(0.01/2,df=14)\n",
    "t_critical"
   ]
  },
  {
   "cell_type": "code",
   "execution_count": 7,
   "id": "c5b0bd95-a524-4ee1-a0eb-114351cdb3af",
   "metadata": {},
   "outputs": [
    {
     "data": {
      "text/plain": [
       "1.2386666666666666"
      ]
     },
     "execution_count": 7,
     "metadata": {},
     "output_type": "execute_result"
    }
   ],
   "source": [
    "# xbar\n",
    "xbar=np.mean(sample_data)\n",
    "xbar"
   ]
  },
  {
   "cell_type": "code",
   "execution_count": 9,
   "id": "7d3c4da4-f5cf-4bb0-9415-c05f6b8962d6",
   "metadata": {},
   "outputs": [
    {
     "data": {
      "text/plain": [
       "0.18661427836285438"
      ]
     },
     "execution_count": 9,
     "metadata": {},
     "output_type": "execute_result"
    }
   ],
   "source": [
    "# st_dev\n",
    "st_dev=np.std(sample_data)\n",
    "st_dev"
   ]
  },
  {
   "cell_type": "code",
   "execution_count": 10,
   "id": "2a0c1357-8842-40b0-aaa4-b64797598745",
   "metadata": {},
   "outputs": [],
   "source": [
    "n=15"
   ]
  },
  {
   "cell_type": "code",
   "execution_count": 11,
   "id": "b00beb05-d82a-474e-b822-604c720f4e00",
   "metadata": {},
   "outputs": [
    {
     "data": {
      "text/plain": [
       "1.0952316686385626"
      ]
     },
     "execution_count": 11,
     "metadata": {},
     "output_type": "execute_result"
    }
   ],
   "source": [
    "lower_value= xbar-(t_critical*st_dev/math.sqrt(n))\n",
    "lower_value"
   ]
  },
  {
   "cell_type": "code",
   "execution_count": 12,
   "id": "29177f8a-ca5d-461f-af2c-9f1a773bf92e",
   "metadata": {},
   "outputs": [
    {
     "data": {
      "text/plain": [
       "1.3821016646947706"
      ]
     },
     "execution_count": 12,
     "metadata": {},
     "output_type": "execute_result"
    }
   ],
   "source": [
    "upper_value= xbar+(t_critical*st_dev/math.sqrt(n))\n",
    "upper_value"
   ]
  },
  {
   "cell_type": "code",
   "execution_count": 7,
   "id": "e5128f2b-ea58-4291-8375-8f8a0aa5d7b1",
   "metadata": {},
   "outputs": [],
   "source": [
    "# The range for print heads to work untill failure is 1.095 millon words to 1.3821 million words\n",
    "# The reason to use t-test is because Popuplation standard deviation is not given"
   ]
  },
  {
   "cell_type": "code",
   "execution_count": 9,
   "id": "7728d5cc-c986-47a9-a8c1-ab3f33f8386b",
   "metadata": {},
   "outputs": [],
   "source": [
    "# Task-2\n",
    "pop_st_dev=0.2\n",
    "n=15\n",
    "xbar=1.23"
   ]
  },
  {
   "cell_type": "code",
   "execution_count": 11,
   "id": "95313b6a-5090-4909-9c5d-ea07c26fb574",
   "metadata": {},
   "outputs": [
    {
     "data": {
      "text/plain": [
       "2.5758293035489004"
      ]
     },
     "execution_count": 11,
     "metadata": {},
     "output_type": "execute_result"
    }
   ],
   "source": [
    "Z=stats.norm.ppf(1-0.01/2)\n",
    "Z"
   ]
  },
  {
   "cell_type": "code",
   "execution_count": 12,
   "id": "52d0027d-8e28-43d7-a9f8-6a502a0f128f",
   "metadata": {},
   "outputs": [
    {
     "data": {
      "text/plain": [
       "1.096984746729094"
      ]
     },
     "execution_count": 12,
     "metadata": {},
     "output_type": "execute_result"
    }
   ],
   "source": [
    "Lower_bound= xbar-Z*(pop_st_dev/math.sqrt(15))\n",
    "Lower_bound"
   ]
  },
  {
   "cell_type": "code",
   "execution_count": 13,
   "id": "5dc12807-e8ae-4ce8-80c2-492145f2fb19",
   "metadata": {},
   "outputs": [
    {
     "data": {
      "text/plain": [
       "1.363015253270906"
      ]
     },
     "execution_count": 13,
     "metadata": {},
     "output_type": "execute_result"
    }
   ],
   "source": [
    "Upper_bound= xbar+Z*(pop_st_dev/math.sqrt(15))\n",
    "Upper_bound"
   ]
  },
  {
   "cell_type": "code",
   "execution_count": null,
   "id": "9c8671d4-978d-4435-bf98-86a61f5a004a",
   "metadata": {},
   "outputs": [],
   "source": []
  }
 ],
 "metadata": {
  "kernelspec": {
   "display_name": "Python 3 (ipykernel)",
   "language": "python",
   "name": "python3"
  },
  "language_info": {
   "codemirror_mode": {
    "name": "ipython",
    "version": 3
   },
   "file_extension": ".py",
   "mimetype": "text/x-python",
   "name": "python",
   "nbconvert_exporter": "python",
   "pygments_lexer": "ipython3",
   "version": "3.11.7"
  }
 },
 "nbformat": 4,
 "nbformat_minor": 5
}
