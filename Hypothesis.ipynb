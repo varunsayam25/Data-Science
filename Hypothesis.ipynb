{
 "cells": [
  {
   "cell_type": "code",
   "execution_count": 52,
   "id": "5f79a377-c806-45c7-9c29-e38cb3a9a637",
   "metadata": {},
   "outputs": [],
   "source": [
    "import pandas as pd\n",
    "import scipy.stats as stats\n",
    "import math"
   ]
  },
  {
   "cell_type": "markdown",
   "id": "c0106db2",
   "metadata": {},
   "source": [
    "## Exercise-1"
   ]
  },
  {
   "cell_type": "markdown",
   "id": "8ec28a85",
   "metadata": {},
   "source": [
    " The Hypothesis are\n",
    " \n",
    " H0 : There is no association between the type of smart home device purchased and the customer satisfaction level.\n",
    " \n",
    " H1 : There is a significant association between the type of smart home device purchased and the customer satisfaction level."
   ]
  },
  {
   "cell_type": "code",
   "execution_count": 57,
   "id": "b60d9615-57e9-482f-b7c7-818166b104e8",
   "metadata": {},
   "outputs": [],
   "source": [
    "df=pd.DataFrame(data={'Satisfaction':['Very Satisfied','Satisfied','Neutral','Unsatisfied','Very Unsatisfied'],'Smart Thermostat':[50,80,60,30,20],'Smart Light':[70,100,90,50,50]})"
   ]
  },
  {
   "cell_type": "code",
   "execution_count": 58,
   "id": "2188d80c-b4f7-4caf-b6f4-2dcfeeb2f2b4",
   "metadata": {},
   "outputs": [
    {
     "data": {
      "text/html": [
       "<div>\n",
       "<style scoped>\n",
       "    .dataframe tbody tr th:only-of-type {\n",
       "        vertical-align: middle;\n",
       "    }\n",
       "\n",
       "    .dataframe tbody tr th {\n",
       "        vertical-align: top;\n",
       "    }\n",
       "\n",
       "    .dataframe thead th {\n",
       "        text-align: right;\n",
       "    }\n",
       "</style>\n",
       "<table border=\"1\" class=\"dataframe\">\n",
       "  <thead>\n",
       "    <tr style=\"text-align: right;\">\n",
       "      <th></th>\n",
       "      <th>Satisfaction</th>\n",
       "      <th>Smart Thermostat</th>\n",
       "      <th>Smart Light</th>\n",
       "    </tr>\n",
       "  </thead>\n",
       "  <tbody>\n",
       "    <tr>\n",
       "      <th>0</th>\n",
       "      <td>Very Satisfied</td>\n",
       "      <td>50</td>\n",
       "      <td>70</td>\n",
       "    </tr>\n",
       "    <tr>\n",
       "      <th>1</th>\n",
       "      <td>Satisfied</td>\n",
       "      <td>80</td>\n",
       "      <td>100</td>\n",
       "    </tr>\n",
       "    <tr>\n",
       "      <th>2</th>\n",
       "      <td>Neutral</td>\n",
       "      <td>60</td>\n",
       "      <td>90</td>\n",
       "    </tr>\n",
       "    <tr>\n",
       "      <th>3</th>\n",
       "      <td>Unsatisfied</td>\n",
       "      <td>30</td>\n",
       "      <td>50</td>\n",
       "    </tr>\n",
       "    <tr>\n",
       "      <th>4</th>\n",
       "      <td>Very Unsatisfied</td>\n",
       "      <td>20</td>\n",
       "      <td>50</td>\n",
       "    </tr>\n",
       "  </tbody>\n",
       "</table>\n",
       "</div>"
      ],
      "text/plain": [
       "       Satisfaction  Smart Thermostat  Smart Light\n",
       "0    Very Satisfied                50           70\n",
       "1         Satisfied                80          100\n",
       "2           Neutral                60           90\n",
       "3       Unsatisfied                30           50\n",
       "4  Very Unsatisfied                20           50"
      ]
     },
     "execution_count": 58,
     "metadata": {},
     "output_type": "execute_result"
    }
   ],
   "source": [
    "df"
   ]
  },
  {
   "cell_type": "code",
   "execution_count": 68,
   "id": "bf2f8e6a-0f09-447c-869d-030fda27d897",
   "metadata": {},
   "outputs": [],
   "source": [
    "# To calculate the expected values , we need to calculate row and column totals"
   ]
  },
  {
   "cell_type": "code",
   "execution_count": 82,
   "id": "78752acd-4b3e-48ab-ad16-c167b581f9b1",
   "metadata": {},
   "outputs": [],
   "source": [
    "# Then by this formula we will get the expected values of each parameter\n",
    "#For \"Very Satisfied\" and \"Smart Thermostat\":\n",
    "E1_1=(120*240)/600\n",
    "#For \"Very Satisfied\" and \"Smart Light\":\n",
    "E1_2 =(120*360)/600\n",
    "#For \"Satisfied\" and \"Smart Thermostat\":\n",
    "E2_1=(180*240)/600\n",
    "#For \"Satisfied\" and \"Smart Light\":\n",
    "E2_2=(180*360)/600\n",
    "#For \"Neutral\" and \"Smart Thermostat\":\n",
    "E3_1=(150*240)/600\n",
    "#For \"Neutral\" and \"Smart Light\":\n",
    "E3_2=(150*360)/600\n",
    "#For \"Unsatisfied\" and \"Smart Thermostat\":\n",
    "E4_1=(80*240)/600\n",
    "#For \"Unsatisfied\" and \"Smart Light\":\n",
    "E4_2=(80*360)/600\n",
    "#For \"Very Unsatisfied\" and \"Smart Thermostat\":\n",
    "E5_1=(70*240)/600\n",
    "#For \"Very Unsatisfied\" and \"Smart Light\":\n",
    "E5_2=(70*360)/600"
   ]
  },
  {
   "cell_type": "code",
   "execution_count": 83,
   "id": "7b804521-fa3f-4779-87d9-e3b701d50a91",
   "metadata": {},
   "outputs": [
    {
     "data": {
      "text/plain": [
       "(48.0, 72.0, 72.0, 108.0, 60.0, 90.0, 32.0, 48.0, 28.0, 42.0)"
      ]
     },
     "execution_count": 83,
     "metadata": {},
     "output_type": "execute_result"
    }
   ],
   "source": [
    "E1_1,E1_2,E2_1,E2_2,E3_1,E3_2,E4_1,E4_2,E5_1,E5_2"
   ]
  },
  {
   "cell_type": "code",
   "execution_count": 84,
   "id": "9daee8a5-3e1f-4715-a758-82d90c7e9bd3",
   "metadata": {},
   "outputs": [],
   "source": [
    "df_New= pd.DataFrame(data={'Satisfaction':['Very Satisfied','Satisfied','Neutral','Unsatisfied','Very Unsatisfied'],\n",
    "                           'Smart Thermostat(O)':[50,80,60,30,20],'Smart Thermostat(E)':[48,72,60,32,28],\n",
    "                           'Smart Light(O)':[70,100,90,50,50],'Smart Light(E)':[72,108,90,48,42]})"
   ]
  },
  {
   "cell_type": "code",
   "execution_count": 85,
   "id": "8e378aaa-0a63-403d-a572-0ad32e994d40",
   "metadata": {},
   "outputs": [
    {
     "data": {
      "text/html": [
       "<div>\n",
       "<style scoped>\n",
       "    .dataframe tbody tr th:only-of-type {\n",
       "        vertical-align: middle;\n",
       "    }\n",
       "\n",
       "    .dataframe tbody tr th {\n",
       "        vertical-align: top;\n",
       "    }\n",
       "\n",
       "    .dataframe thead th {\n",
       "        text-align: right;\n",
       "    }\n",
       "</style>\n",
       "<table border=\"1\" class=\"dataframe\">\n",
       "  <thead>\n",
       "    <tr style=\"text-align: right;\">\n",
       "      <th></th>\n",
       "      <th>Satisfaction</th>\n",
       "      <th>Smart Thermostat(O)</th>\n",
       "      <th>Smart Thermostat(E)</th>\n",
       "      <th>Smart Light(O)</th>\n",
       "      <th>Smart Light(E)</th>\n",
       "    </tr>\n",
       "  </thead>\n",
       "  <tbody>\n",
       "    <tr>\n",
       "      <th>0</th>\n",
       "      <td>Very Satisfied</td>\n",
       "      <td>50</td>\n",
       "      <td>48</td>\n",
       "      <td>70</td>\n",
       "      <td>72</td>\n",
       "    </tr>\n",
       "    <tr>\n",
       "      <th>1</th>\n",
       "      <td>Satisfied</td>\n",
       "      <td>80</td>\n",
       "      <td>72</td>\n",
       "      <td>100</td>\n",
       "      <td>108</td>\n",
       "    </tr>\n",
       "    <tr>\n",
       "      <th>2</th>\n",
       "      <td>Neutral</td>\n",
       "      <td>60</td>\n",
       "      <td>60</td>\n",
       "      <td>90</td>\n",
       "      <td>90</td>\n",
       "    </tr>\n",
       "    <tr>\n",
       "      <th>3</th>\n",
       "      <td>Unsatisfied</td>\n",
       "      <td>30</td>\n",
       "      <td>32</td>\n",
       "      <td>50</td>\n",
       "      <td>48</td>\n",
       "    </tr>\n",
       "    <tr>\n",
       "      <th>4</th>\n",
       "      <td>Very Unsatisfied</td>\n",
       "      <td>20</td>\n",
       "      <td>28</td>\n",
       "      <td>50</td>\n",
       "      <td>42</td>\n",
       "    </tr>\n",
       "  </tbody>\n",
       "</table>\n",
       "</div>"
      ],
      "text/plain": [
       "       Satisfaction  Smart Thermostat(O)  Smart Thermostat(E)  Smart Light(O)  \\\n",
       "0    Very Satisfied                   50                   48              70   \n",
       "1         Satisfied                   80                   72             100   \n",
       "2           Neutral                   60                   60              90   \n",
       "3       Unsatisfied                   30                   32              50   \n",
       "4  Very Unsatisfied                   20                   28              50   \n",
       "\n",
       "   Smart Light(E)  \n",
       "0              72  \n",
       "1             108  \n",
       "2              90  \n",
       "3              48  \n",
       "4              42  "
      ]
     },
     "execution_count": 85,
     "metadata": {},
     "output_type": "execute_result"
    }
   ],
   "source": [
    "df_New"
   ]
  },
  {
   "cell_type": "code",
   "execution_count": null,
   "id": "6d97afa0-30d1-4106-b645-117a47ad1a13",
   "metadata": {},
   "outputs": [],
   "source": []
  },
  {
   "cell_type": "code",
   "execution_count": 86,
   "id": "102a2a40-ce1e-4bb5-a48f-37604e151e22",
   "metadata": {},
   "outputs": [],
   "source": [
    "# Now we will calculate Chi-Square Statistics for each cells \n",
    "#For \"Very Satisfied\" and \"Smart Thermostat\":\n",
    "X1_1=((50-48)**2)/48\n",
    "#For \"Very Satisfied\" and \"Smart Light\":\n",
    "X1_2 =((70-72)**2)/72\n",
    "#For \"Satisfied\" and \"Smart Thermostat\":\n",
    "X2_1=((80-72)**2)/72\n",
    "#For \"Satisfied\" and \"Smart Light\":\n",
    "X2_2=((100-108)**2)/108\n",
    "#For \"Neutral\" and \"Smart Thermostat\":\n",
    "X3_1=((60-60)**2)/60\n",
    "#For \"Neutral\" and \"Smart Light\":\n",
    "X3_2=((90-90)**2)/90\n",
    "#For \"Unsatisfied\" and \"Smart Thermostat\":\n",
    "X4_1=((30-32)**2)/32\n",
    "#For \"Unsatisfied\" and \"Smart Light\":\n",
    "X4_2=((50-48)**2)/48\n",
    "#For \"Very Unsatisfied\" and \"Smart Thermostat\":\n",
    "X5_1=((20-28)**2)/28\n",
    "#For \"Very Unsatisfied\" and \"Smart Light\":\n",
    "X5_2=((50-42)**2)/42"
   ]
  },
  {
   "cell_type": "code",
   "execution_count": 87,
   "id": "ffe44bc1-5ad8-437b-a848-878c0f052a84",
   "metadata": {},
   "outputs": [
    {
     "data": {
      "text/plain": [
       "(0.08333333333333333,\n",
       " 0.05555555555555555,\n",
       " 0.8888888888888888,\n",
       " 0.5925925925925926,\n",
       " 0.0,\n",
       " 0.0,\n",
       " 0.125,\n",
       " 0.08333333333333333,\n",
       " 2.2857142857142856,\n",
       " 1.5238095238095237)"
      ]
     },
     "execution_count": 87,
     "metadata": {},
     "output_type": "execute_result"
    }
   ],
   "source": [
    "X1_1,X1_2,X2_1,X2_2,X3_1,X3_2,X4_1,X4_2,X5_1,X5_2"
   ]
  },
  {
   "cell_type": "code",
   "execution_count": 88,
   "id": "ed04dd50-0d8d-465d-b094-b96a7181a3a0",
   "metadata": {},
   "outputs": [
    {
     "data": {
      "text/plain": [
       "5.638227513227513"
      ]
     },
     "execution_count": 88,
     "metadata": {},
     "output_type": "execute_result"
    }
   ],
   "source": [
    "#Chi-Square statistics is\n",
    "chi_stats=X1_1+X1_2+X2_1+X2_2+X3_1+X3_2+X4_1+X4_2+X5_1+X5_2\n",
    "chi_stats"
   ]
  },
  {
   "cell_type": "code",
   "execution_count": 30,
   "id": "330f8196-70cc-43cc-a941-2391d01f4b89",
   "metadata": {},
   "outputs": [
    {
     "data": {
      "text/plain": [
       "15.50731305586545"
      ]
     },
     "execution_count": 30,
     "metadata": {},
     "output_type": "execute_result"
    }
   ],
   "source": [
    "# chi-critical value\n",
    "stats.chi2.ppf(1-0.05,8)"
   ]
  },
  {
   "cell_type": "markdown",
   "id": "3c6fa41b",
   "metadata": {},
   "source": [
    "## Conclusion\n",
    "\n",
    " Since the Chi-Square statistics value is less than Chi-Square critical value, we fail to reject th null hyposthesis(H0)\n",
    "    \n",
    " H0 : There is no association between the type of smart home device purchased and the customer satisfaction level."
   ]
  },
  {
   "cell_type": "code",
   "execution_count": null,
   "id": "75f132ad-fec3-4c9f-8791-123c358aaa09",
   "metadata": {},
   "outputs": [],
   "source": []
  },
  {
   "cell_type": "code",
   "execution_count": null,
   "id": "2a87c5ca-f36e-4ff5-80a0-52ea2584042b",
   "metadata": {},
   "outputs": [],
   "source": []
  },
  {
   "cell_type": "code",
   "execution_count": null,
   "id": "af62c7b9-1b1f-42e9-afa0-17b691c27ef9",
   "metadata": {},
   "outputs": [],
   "source": []
  },
  {
   "cell_type": "markdown",
   "id": "1de1c756",
   "metadata": {},
   "source": [
    "## Exercise-2:"
   ]
  },
  {
   "cell_type": "code",
   "execution_count": 45,
   "id": "6ba553e2-7011-4df8-885b-bd561322063b",
   "metadata": {},
   "outputs": [],
   "source": [
    "#Null Hypothesis (H0): The weekly operating costs follow the theoretical model, W = $1,000 + $5X.\n",
    "#Alternative Hypothesis (H1): The weekly operating costs are higher than predicted by the theoretical model."
   ]
  },
  {
   "cell_type": "code",
   "execution_count": 46,
   "id": "e174d9bb-c09e-4cf9-b2b9-81b758b63b47",
   "metadata": {},
   "outputs": [],
   "source": [
    "# Given Data\n",
    "xbar=3050\n",
    "n=25\n",
    "std_dev=125\n",
    "pop_mean=4000"
   ]
  },
  {
   "cell_type": "code",
   "execution_count": 34,
   "id": "06e3fe30-fa78-4c47-8282-c3474daefe90",
   "metadata": {},
   "outputs": [
    {
     "data": {
      "text/plain": [
       "-38.0"
      ]
     },
     "execution_count": 34,
     "metadata": {},
     "output_type": "execute_result"
    }
   ],
   "source": [
    "t_stats= ((xbar-pop_mean)*math.sqrt(25))/std_dev\n",
    "t_stats"
   ]
  },
  {
   "cell_type": "code",
   "execution_count": 48,
   "id": "5299df9e-d1c0-47fa-b638-6bf45fbb2b21",
   "metadata": {},
   "outputs": [
    {
     "data": {
      "text/plain": [
       "1.6448536269514722"
      ]
     },
     "execution_count": 48,
     "metadata": {},
     "output_type": "execute_result"
    }
   ],
   "source": [
    "# Critical Value\n",
    "stats.norm.ppf(1-0.05)"
   ]
  },
  {
   "cell_type": "code",
   "execution_count": 49,
   "id": "16d291c7-3963-4219-a132-ff362875457e",
   "metadata": {},
   "outputs": [],
   "source": [
    "# From Standard normal distribution table we find the critical value is apporximately -1.645"
   ]
  },
  {
   "cell_type": "code",
   "execution_count": 50,
   "id": "25ed00e8-f33f-4a69-bd1a-ed6c5bcfa59c",
   "metadata": {},
   "outputs": [],
   "source": [
    "#Make a Decision:\n",
    "#Since the calculated test statistic (t = -38) is much smaller (in the negative direction) than the critical value (-1.645),\n",
    "#we reject the null hypothesis."
   ]
  },
  {
   "cell_type": "code",
   "execution_count": 51,
   "id": "78d776f4-c00f-4dbe-a477-14cb43a9ae96",
   "metadata": {},
   "outputs": [],
   "source": [
    "## Conclusion:\n",
    "\n",
    "There is strong evidence to support the restaurant owners' claim that the weekly operating costs are higher than predicted\n",
    "by the theoretical model."
   ]
  },
  {
   "cell_type": "code",
   "execution_count": null,
   "id": "8af5abe0-b433-4d2b-b8db-278467455fc4",
   "metadata": {},
   "outputs": [],
   "source": []
  }
 ],
 "metadata": {
  "kernelspec": {
   "display_name": "Python 3 (ipykernel)",
   "language": "python",
   "name": "python3"
  },
  "language_info": {
   "codemirror_mode": {
    "name": "ipython",
    "version": 3
   },
   "file_extension": ".py",
   "mimetype": "text/x-python",
   "name": "python",
   "nbconvert_exporter": "python",
   "pygments_lexer": "ipython3",
   "version": "3.11.7"
  }
 },
 "nbformat": 4,
 "nbformat_minor": 5
}
