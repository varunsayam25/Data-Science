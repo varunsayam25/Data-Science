{
 "cells": [
  {
   "cell_type": "code",
   "execution_count": 237,
   "id": "f93308cf-6356-484c-8151-ec3558a319cb",
   "metadata": {},
   "outputs": [],
   "source": [
    "import pandas as pd \n",
    "import numpy as np\n",
    "import math\n",
    "import statistics\n",
    "import matplotlib.pyplot as plt"
   ]
  },
  {
   "cell_type": "markdown",
   "id": "8bbd30b7-fb10-48c6-805f-9c765d674294",
   "metadata": {},
   "source": [
    "## Descriptive Analytics for numerical columns"
   ]
  },
  {
   "cell_type": "code",
   "execution_count": 4,
   "id": "b4059bd0-e6b2-4afb-8b1c-5b0d785327e5",
   "metadata": {},
   "outputs": [],
   "source": [
    "df=pd.read_csv('sales_data_with_discounts.csv')"
   ]
  },
  {
   "cell_type": "code",
   "execution_count": 5,
   "id": "796711a8-f601-4be0-a0d1-084a479aa35e",
   "metadata": {},
   "outputs": [
    {
     "data": {
      "text/html": [
       "<div>\n",
       "<style scoped>\n",
       "    .dataframe tbody tr th:only-of-type {\n",
       "        vertical-align: middle;\n",
       "    }\n",
       "\n",
       "    .dataframe tbody tr th {\n",
       "        vertical-align: top;\n",
       "    }\n",
       "\n",
       "    .dataframe thead th {\n",
       "        text-align: right;\n",
       "    }\n",
       "</style>\n",
       "<table border=\"1\" class=\"dataframe\">\n",
       "  <thead>\n",
       "    <tr style=\"text-align: right;\">\n",
       "      <th></th>\n",
       "      <th>Date</th>\n",
       "      <th>Day</th>\n",
       "      <th>SKU</th>\n",
       "      <th>City</th>\n",
       "      <th>Volume</th>\n",
       "      <th>BU</th>\n",
       "      <th>Brand</th>\n",
       "      <th>Model</th>\n",
       "      <th>Avg Price</th>\n",
       "      <th>Total Sales Value</th>\n",
       "      <th>Discount Rate (%)</th>\n",
       "      <th>Discount Amount</th>\n",
       "      <th>Net Sales Value</th>\n",
       "    </tr>\n",
       "  </thead>\n",
       "  <tbody>\n",
       "    <tr>\n",
       "      <th>0</th>\n",
       "      <td>01-04-2021</td>\n",
       "      <td>Thursday</td>\n",
       "      <td>M01</td>\n",
       "      <td>C</td>\n",
       "      <td>15</td>\n",
       "      <td>Mobiles</td>\n",
       "      <td>RealU</td>\n",
       "      <td>RU-10</td>\n",
       "      <td>12100</td>\n",
       "      <td>181500</td>\n",
       "      <td>11.654820</td>\n",
       "      <td>21153.498820</td>\n",
       "      <td>160346.501180</td>\n",
       "    </tr>\n",
       "    <tr>\n",
       "      <th>1</th>\n",
       "      <td>01-04-2021</td>\n",
       "      <td>Thursday</td>\n",
       "      <td>M02</td>\n",
       "      <td>C</td>\n",
       "      <td>10</td>\n",
       "      <td>Mobiles</td>\n",
       "      <td>RealU</td>\n",
       "      <td>RU-9 Plus</td>\n",
       "      <td>10100</td>\n",
       "      <td>101000</td>\n",
       "      <td>11.560498</td>\n",
       "      <td>11676.102961</td>\n",
       "      <td>89323.897039</td>\n",
       "    </tr>\n",
       "    <tr>\n",
       "      <th>2</th>\n",
       "      <td>01-04-2021</td>\n",
       "      <td>Thursday</td>\n",
       "      <td>M03</td>\n",
       "      <td>C</td>\n",
       "      <td>7</td>\n",
       "      <td>Mobiles</td>\n",
       "      <td>YouM</td>\n",
       "      <td>YM-99</td>\n",
       "      <td>16100</td>\n",
       "      <td>112700</td>\n",
       "      <td>9.456886</td>\n",
       "      <td>10657.910157</td>\n",
       "      <td>102042.089843</td>\n",
       "    </tr>\n",
       "    <tr>\n",
       "      <th>3</th>\n",
       "      <td>01-04-2021</td>\n",
       "      <td>Thursday</td>\n",
       "      <td>M04</td>\n",
       "      <td>C</td>\n",
       "      <td>6</td>\n",
       "      <td>Mobiles</td>\n",
       "      <td>YouM</td>\n",
       "      <td>YM-99 Plus</td>\n",
       "      <td>20100</td>\n",
       "      <td>120600</td>\n",
       "      <td>6.935385</td>\n",
       "      <td>8364.074702</td>\n",
       "      <td>112235.925298</td>\n",
       "    </tr>\n",
       "    <tr>\n",
       "      <th>4</th>\n",
       "      <td>01-04-2021</td>\n",
       "      <td>Thursday</td>\n",
       "      <td>M05</td>\n",
       "      <td>C</td>\n",
       "      <td>3</td>\n",
       "      <td>Mobiles</td>\n",
       "      <td>YouM</td>\n",
       "      <td>YM-98</td>\n",
       "      <td>8100</td>\n",
       "      <td>24300</td>\n",
       "      <td>17.995663</td>\n",
       "      <td>4372.946230</td>\n",
       "      <td>19927.053770</td>\n",
       "    </tr>\n",
       "  </tbody>\n",
       "</table>\n",
       "</div>"
      ],
      "text/plain": [
       "         Date       Day  SKU City  Volume       BU  Brand       Model  \\\n",
       "0  01-04-2021  Thursday  M01    C      15  Mobiles  RealU       RU-10   \n",
       "1  01-04-2021  Thursday  M02    C      10  Mobiles  RealU   RU-9 Plus   \n",
       "2  01-04-2021  Thursday  M03    C       7  Mobiles   YouM       YM-99   \n",
       "3  01-04-2021  Thursday  M04    C       6  Mobiles   YouM  YM-99 Plus   \n",
       "4  01-04-2021  Thursday  M05    C       3  Mobiles   YouM      YM-98    \n",
       "\n",
       "   Avg Price  Total Sales Value  Discount Rate (%)  Discount Amount  \\\n",
       "0      12100             181500          11.654820     21153.498820   \n",
       "1      10100             101000          11.560498     11676.102961   \n",
       "2      16100             112700           9.456886     10657.910157   \n",
       "3      20100             120600           6.935385      8364.074702   \n",
       "4       8100              24300          17.995663      4372.946230   \n",
       "\n",
       "   Net Sales Value  \n",
       "0    160346.501180  \n",
       "1     89323.897039  \n",
       "2    102042.089843  \n",
       "3    112235.925298  \n",
       "4     19927.053770  "
      ]
     },
     "execution_count": 5,
     "metadata": {},
     "output_type": "execute_result"
    }
   ],
   "source": [
    "df.head()"
   ]
  },
  {
   "cell_type": "code",
   "execution_count": 24,
   "id": "fcdb61ea-c84a-4b8c-9e0e-7151c1a980fc",
   "metadata": {},
   "outputs": [
    {
     "data": {
      "text/html": [
       "<div>\n",
       "<style scoped>\n",
       "    .dataframe tbody tr th:only-of-type {\n",
       "        vertical-align: middle;\n",
       "    }\n",
       "\n",
       "    .dataframe tbody tr th {\n",
       "        vertical-align: top;\n",
       "    }\n",
       "\n",
       "    .dataframe thead th {\n",
       "        text-align: right;\n",
       "    }\n",
       "</style>\n",
       "<table border=\"1\" class=\"dataframe\">\n",
       "  <thead>\n",
       "    <tr style=\"text-align: right;\">\n",
       "      <th></th>\n",
       "      <th>Volume</th>\n",
       "      <th>Avg Price</th>\n",
       "      <th>Total Sales Value</th>\n",
       "      <th>Discount Rate (%)</th>\n",
       "      <th>Discount Amount</th>\n",
       "      <th>Net Sales Value</th>\n",
       "    </tr>\n",
       "  </thead>\n",
       "  <tbody>\n",
       "    <tr>\n",
       "      <th>count</th>\n",
       "      <td>450.000000</td>\n",
       "      <td>450.000000</td>\n",
       "      <td>450.000000</td>\n",
       "      <td>450.000000</td>\n",
       "      <td>450.000000</td>\n",
       "      <td>450.000000</td>\n",
       "    </tr>\n",
       "    <tr>\n",
       "      <th>mean</th>\n",
       "      <td>5.066667</td>\n",
       "      <td>10453.433333</td>\n",
       "      <td>33812.835556</td>\n",
       "      <td>15.155242</td>\n",
       "      <td>3346.499424</td>\n",
       "      <td>30466.336131</td>\n",
       "    </tr>\n",
       "    <tr>\n",
       "      <th>std</th>\n",
       "      <td>4.231602</td>\n",
       "      <td>18079.904840</td>\n",
       "      <td>50535.074173</td>\n",
       "      <td>4.220602</td>\n",
       "      <td>4509.902963</td>\n",
       "      <td>46358.656624</td>\n",
       "    </tr>\n",
       "    <tr>\n",
       "      <th>min</th>\n",
       "      <td>1.000000</td>\n",
       "      <td>290.000000</td>\n",
       "      <td>400.000000</td>\n",
       "      <td>5.007822</td>\n",
       "      <td>69.177942</td>\n",
       "      <td>326.974801</td>\n",
       "    </tr>\n",
       "    <tr>\n",
       "      <th>25%</th>\n",
       "      <td>3.000000</td>\n",
       "      <td>465.000000</td>\n",
       "      <td>2700.000000</td>\n",
       "      <td>13.965063</td>\n",
       "      <td>460.459304</td>\n",
       "      <td>2202.208645</td>\n",
       "    </tr>\n",
       "    <tr>\n",
       "      <th>50%</th>\n",
       "      <td>4.000000</td>\n",
       "      <td>1450.000000</td>\n",
       "      <td>5700.000000</td>\n",
       "      <td>16.577766</td>\n",
       "      <td>988.933733</td>\n",
       "      <td>4677.788059</td>\n",
       "    </tr>\n",
       "    <tr>\n",
       "      <th>75%</th>\n",
       "      <td>6.000000</td>\n",
       "      <td>10100.000000</td>\n",
       "      <td>53200.000000</td>\n",
       "      <td>18.114718</td>\n",
       "      <td>5316.495427</td>\n",
       "      <td>47847.912852</td>\n",
       "    </tr>\n",
       "    <tr>\n",
       "      <th>max</th>\n",
       "      <td>31.000000</td>\n",
       "      <td>60100.000000</td>\n",
       "      <td>196400.000000</td>\n",
       "      <td>19.992407</td>\n",
       "      <td>25738.022194</td>\n",
       "      <td>179507.479049</td>\n",
       "    </tr>\n",
       "  </tbody>\n",
       "</table>\n",
       "</div>"
      ],
      "text/plain": [
       "           Volume     Avg Price  Total Sales Value  Discount Rate (%)  \\\n",
       "count  450.000000    450.000000         450.000000         450.000000   \n",
       "mean     5.066667  10453.433333       33812.835556          15.155242   \n",
       "std      4.231602  18079.904840       50535.074173           4.220602   \n",
       "min      1.000000    290.000000         400.000000           5.007822   \n",
       "25%      3.000000    465.000000        2700.000000          13.965063   \n",
       "50%      4.000000   1450.000000        5700.000000          16.577766   \n",
       "75%      6.000000  10100.000000       53200.000000          18.114718   \n",
       "max     31.000000  60100.000000      196400.000000          19.992407   \n",
       "\n",
       "       Discount Amount  Net Sales Value  \n",
       "count       450.000000       450.000000  \n",
       "mean       3346.499424     30466.336131  \n",
       "std        4509.902963     46358.656624  \n",
       "min          69.177942       326.974801  \n",
       "25%         460.459304      2202.208645  \n",
       "50%         988.933733      4677.788059  \n",
       "75%        5316.495427     47847.912852  \n",
       "max       25738.022194    179507.479049  "
      ]
     },
     "execution_count": 24,
     "metadata": {},
     "output_type": "execute_result"
    }
   ],
   "source": [
    "# Mean and Standard deviation of numerical coloumns present\n",
    "df.describe()"
   ]
  },
  {
   "cell_type": "code",
   "execution_count": 56,
   "id": "9bbf62dd-3f72-462c-8086-602ec00fa55c",
   "metadata": {},
   "outputs": [
    {
     "name": "stderr",
     "output_type": "stream",
     "text": [
      "C:\\Users\\Varun Sayam\\AppData\\Local\\Temp\\ipykernel_14960\\878384936.py:2: FutureWarning: The provided callable <function median at 0x000001E0BB977600> is currently using DataFrame.median. In a future version of pandas, the provided callable will be used directly. To keep current behavior pass the string \"median\" instead.\n",
      "  df[['Volume','Avg Price','Total Sales Value','Discount Rate (%)','Discount Amount','Net Sales Value']].agg(np.median)\n"
     ]
    },
    {
     "data": {
      "text/plain": [
       "Volume                  4.000000\n",
       "Avg Price            1450.000000\n",
       "Total Sales Value    5700.000000\n",
       "Discount Rate (%)      16.577766\n",
       "Discount Amount       988.933733\n",
       "Net Sales Value      4677.788059\n",
       "dtype: float64"
      ]
     },
     "execution_count": 56,
     "metadata": {},
     "output_type": "execute_result"
    }
   ],
   "source": [
    "# Median of all the numerical coloumns\n",
    "df[['Volume','Avg Price','Total Sales Value','Discount Rate (%)','Discount Amount','Net Sales Value']].agg(np.median)"
   ]
  },
  {
   "cell_type": "code",
   "execution_count": 67,
   "id": "c68ab1c2-ed0a-4a5e-b3df-d6e30334f39c",
   "metadata": {},
   "outputs": [
    {
     "data": {
      "text/plain": [
       "3"
      ]
     },
     "execution_count": 67,
     "metadata": {},
     "output_type": "execute_result"
    }
   ],
   "source": [
    "# Mode of all the numerical columns\n",
    "statistics.mode(df['Volume'])"
   ]
  },
  {
   "cell_type": "code",
   "execution_count": 62,
   "id": "59906156-0d0f-4e55-b427-7c7116dc3af7",
   "metadata": {},
   "outputs": [
    {
     "data": {
      "text/plain": [
       "8100"
      ]
     },
     "execution_count": 62,
     "metadata": {},
     "output_type": "execute_result"
    }
   ],
   "source": [
    "statistics.mode(df['Avg Price'])"
   ]
  },
  {
   "cell_type": "code",
   "execution_count": 63,
   "id": "d1534dec-335e-4943-ac69-7bac1eee20d5",
   "metadata": {},
   "outputs": [
    {
     "data": {
      "text/plain": [
       "24300"
      ]
     },
     "execution_count": 63,
     "metadata": {},
     "output_type": "execute_result"
    }
   ],
   "source": [
    "statistics.mode(df['Total Sales Value'])"
   ]
  },
  {
   "cell_type": "code",
   "execution_count": 64,
   "id": "39ba2e67-d385-4d9e-9f27-c664aa2a96d7",
   "metadata": {},
   "outputs": [
    {
     "data": {
      "text/plain": [
       "11.654820286277229"
      ]
     },
     "execution_count": 64,
     "metadata": {},
     "output_type": "execute_result"
    }
   ],
   "source": [
    "statistics.mode(df['Discount Rate (%)'])"
   ]
  },
  {
   "cell_type": "code",
   "execution_count": 65,
   "id": "bd725a81-6bd1-43d8-8b66-f4bd579b0bbb",
   "metadata": {},
   "outputs": [
    {
     "data": {
      "text/plain": [
       "21153.49881959317"
      ]
     },
     "execution_count": 65,
     "metadata": {},
     "output_type": "execute_result"
    }
   ],
   "source": [
    "statistics.mode(df['Discount Amount'])"
   ]
  },
  {
   "cell_type": "code",
   "execution_count": 66,
   "id": "a94972a3-d632-4315-bde4-5bcd2d97b960",
   "metadata": {},
   "outputs": [
    {
     "data": {
      "text/plain": [
       "160346.50118040683"
      ]
     },
     "execution_count": 66,
     "metadata": {},
     "output_type": "execute_result"
    }
   ],
   "source": [
    "statistics.mode(df['Net Sales Value'])"
   ]
  },
  {
   "cell_type": "markdown",
   "id": "7c620e55-6a58-4232-9ed1-ce2b85d6aaf3",
   "metadata": {},
   "source": [
    "## Data Visualization"
   ]
  },
  {
   "cell_type": "markdown",
   "id": "28d6c0f6-b7be-4a13-b432-fea639a84856",
   "metadata": {},
   "source": [
    "### Histograms"
   ]
  },
  {
   "cell_type": "code",
   "execution_count": 69,
   "id": "71bfc557-0e28-4738-a7b6-dc9f7c74e896",
   "metadata": {},
   "outputs": [
    {
     "data": {
      "text/plain": [
       "array([[<Axes: title={'center': 'Volume'}>]], dtype=object)"
      ]
     },
     "execution_count": 69,
     "metadata": {},
     "output_type": "execute_result"
    },
    {
     "data": {
      "image/png": "[encoded data removed]",
      "text/plain": [
       "<Figure size 640x480 with 1 Axes>"
      ]
     },
     "metadata": {},
     "output_type": "display_data"
    }
   ],
   "source": [
    "df.hist('Volume')\n",
    "# The histogram of 'Volume' shows positive Skewness \n",
    "# Skewness shows data have outliers"
   ]
  },
  {
   "cell_type": "code",
   "execution_count": 71,
   "id": "5b792ef6-0ebe-40ae-b810-b459e75776bd",
   "metadata": {},
   "outputs": [
    {
     "data": {
      "text/plain": [
       "array([[<Axes: title={'center': 'Avg Price'}>]], dtype=object)"
      ]
     },
     "execution_count": 71,
     "metadata": {},
     "output_type": "execute_result"
    },
    {
     "data": {
      "image/png": "[encoded data removed]",
      "text/plain": [
       "<Figure size 640x480 with 1 Axes>"
      ]
     },
     "metadata": {},
     "output_type": "display_data"
    }
   ],
   "source": [
    "df.hist('Avg Price')\n",
    "# It shows positive Skewness\n",
    "# Outliers present"
   ]
  },
  {
   "cell_type": "code",
   "execution_count": 73,
   "id": "dae8f662-4f0f-4d63-8be0-43987c4b8d60",
   "metadata": {},
   "outputs": [
    {
     "data": {
      "text/plain": [
       "array([[<Axes: title={'center': 'Total Sales Value'}>]], dtype=object)"
      ]
     },
     "execution_count": 73,
     "metadata": {},
     "output_type": "execute_result"
    },
    {
     "data": {
      "image/png": "[encoded data removed]",
      "text/plain": [
       "<Figure size 640x480 with 1 Axes>"
      ]
     },
     "metadata": {},
     "output_type": "display_data"
    }
   ],
   "source": [
    "df.hist('Total Sales Value')\n",
    "# It shows positive skewness\n",
    "# outliers present"
   ]
  },
  {
   "cell_type": "code",
   "execution_count": 76,
   "id": "80cef813-4842-4e4c-b6f1-e0b7e43aaaea",
   "metadata": {},
   "outputs": [
    {
     "data": {
      "text/plain": [
       "array([[<Axes: title={'center': 'Discount Rate (%)'}>]], dtype=object)"
      ]
     },
     "execution_count": 76,
     "metadata": {},
     "output_type": "execute_result"
    },
    {
     "data": {
      "image/png": "[encoded data removed]",
      "text/plain": [
       "<Figure size 640x480 with 1 Axes>"
      ]
     },
     "metadata": {},
     "output_type": "display_data"
    }
   ],
   "source": [
    "df.hist('Discount Rate (%)')\n",
    "# It shows Negative skewness\n",
    "# outliers present"
   ]
  },
  {
   "cell_type": "code",
   "execution_count": 78,
   "id": "36cd419a-c396-4a9c-9575-f25b0176c171",
   "metadata": {},
   "outputs": [
    {
     "data": {
      "text/plain": [
       "array([[<Axes: title={'center': 'Discount Amount'}>]], dtype=object)"
      ]
     },
     "execution_count": 78,
     "metadata": {},
     "output_type": "execute_result"
    },
    {
     "data": {
      "image/png": "[encoded data removed]",
      "text/plain": [
       "<Figure size 640x480 with 1 Axes>"
      ]
     },
     "metadata": {},
     "output_type": "display_data"
    }
   ],
   "source": [
    "df.hist('Discount Amount')\n",
    "# It shows positive skewness\n",
    "# outliers present"
   ]
  },
  {
   "cell_type": "code",
   "execution_count": 80,
   "id": "45b93300-d4bb-4abd-9b81-03245c9fdfc1",
   "metadata": {},
   "outputs": [
    {
     "data": {
      "text/plain": [
       "array([[<Axes: title={'center': 'Net Sales Value'}>]], dtype=object)"
      ]
     },
     "execution_count": 80,
     "metadata": {},
     "output_type": "execute_result"
    },
    {
     "data": {
      "image/png": "[encoded data removed]",
      "text/plain": [
       "<Figure size 640x480 with 1 Axes>"
      ]
     },
     "metadata": {},
     "output_type": "display_data"
    }
   ],
   "source": [
    "df.hist('Net Sales Value')\n",
    "# It shows positive Skewness\n",
    "# outliers present"
   ]
  },
  {
   "cell_type": "markdown",
   "id": "3e8d0104-b0a2-48cc-8fc1-cd9bea479e62",
   "metadata": {},
   "source": [
    "### Boxplots"
   ]
  },
  {
   "cell_type": "code",
   "execution_count": 89,
   "id": "41b5043b-1e84-410e-91b7-9aaf7b97a0d5",
   "metadata": {},
   "outputs": [
    {
     "name": "stdout",
     "output_type": "stream",
     "text": [
      "<class 'pandas.core.frame.DataFrame'>\n",
      "RangeIndex: 450 entries, 0 to 449\n",
      "Data columns (total 13 columns):\n",
      " #   Column             Non-Null Count  Dtype  \n",
      "---  ------             --------------  -----  \n",
      " 0   Date               450 non-null    object \n",
      " 1   Day                450 non-null    object \n",
      " 2   SKU                450 non-null    object \n",
      " 3   City               450 non-null    object \n",
      " 4   Volume             450 non-null    int64  \n",
      " 5   BU                 450 non-null    object \n",
      " 6   Brand              450 non-null    object \n",
      " 7   Model              450 non-null    object \n",
      " 8   Avg Price          450 non-null    int64  \n",
      " 9   Total Sales Value  450 non-null    int64  \n",
      " 10  Discount Rate (%)  450 non-null    float64\n",
      " 11  Discount Amount    450 non-null    float64\n",
      " 12  Net Sales Value    450 non-null    float64\n",
      "dtypes: float64(3), int64(3), object(7)\n",
      "memory usage: 45.8+ KB\n"
     ]
    }
   ],
   "source": [
    "df.info()"
   ]
  },
  {
   "cell_type": "code",
   "execution_count": 104,
   "id": "17afc8fe-7175-4c6d-94d7-3353c3f0779b",
   "metadata": {},
   "outputs": [
    {
     "data": {
      "text/plain": [
       "428"
      ]
     },
     "execution_count": 104,
     "metadata": {},
     "output_type": "execute_result"
    }
   ],
   "source": [
    "df['Volume'].duplicated().sum()"
   ]
  },
  {
   "cell_type": "code",
   "execution_count": 105,
   "id": "df6b028c-3bfa-4da5-9d36-127327850988",
   "metadata": {},
   "outputs": [
    {
     "data": {
      "text/plain": [
       "Volume\n",
       "3     110\n",
       "2      76\n",
       "4      61\n",
       "6      38\n",
       "5      38\n",
       "7      32\n",
       "1      27\n",
       "12     10\n",
       "11      9\n",
       "9       9\n",
       "8       8\n",
       "10      7\n",
       "15      6\n",
       "14      5\n",
       "13      4\n",
       "29      2\n",
       "24      2\n",
       "22      2\n",
       "25      1\n",
       "31      1\n",
       "16      1\n",
       "17      1\n",
       "Name: count, dtype: int64"
      ]
     },
     "execution_count": 105,
     "metadata": {},
     "output_type": "execute_result"
    }
   ],
   "source": [
    "df['Volume'].value_counts()"
   ]
  },
  {
   "cell_type": "code",
   "execution_count": 81,
   "id": "102a3ade-abed-46b1-950e-72f72ca59852",
   "metadata": {},
   "outputs": [
    {
     "data": {
      "text/plain": [
       "<Axes: >"
      ]
     },
     "execution_count": 81,
     "metadata": {},
     "output_type": "execute_result"
    },
    {
     "data": {
      "image/png": "[encoded data removed]",
      "text/plain": [
       "<Figure size 640x480 with 1 Axes>"
      ]
     },
     "metadata": {},
     "output_type": "display_data"
    }
   ],
   "source": [
    "df.boxplot('Volume')"
   ]
  },
  {
   "cell_type": "code",
   "execution_count": 226,
   "id": "35272f78-176b-4f7d-a1e1-fcfc99a9e2aa",
   "metadata": {},
   "outputs": [
    {
     "data": {
      "text/plain": [
       "4.0"
      ]
     },
     "execution_count": 226,
     "metadata": {},
     "output_type": "execute_result"
    }
   ],
   "source": [
    "Q2vol=np.quantile(df['Volume'],0.5)\n",
    "Q2vol"
   ]
  },
  {
   "cell_type": "code",
   "execution_count": 227,
   "id": "978948a4-3871-41d2-ba99-d85ef0224a05",
   "metadata": {},
   "outputs": [
    {
     "data": {
      "text/plain": [
       "3.0"
      ]
     },
     "execution_count": 227,
     "metadata": {},
     "output_type": "execute_result"
    }
   ],
   "source": [
    "Q1vol= np.quantile(df['Volume'],0.25)\n",
    "Q1vol"
   ]
  },
  {
   "cell_type": "code",
   "execution_count": 228,
   "id": "0e87a878-008c-4f89-8596-50f582551582",
   "metadata": {},
   "outputs": [
    {
     "data": {
      "text/plain": [
       "6.0"
      ]
     },
     "execution_count": 228,
     "metadata": {},
     "output_type": "execute_result"
    }
   ],
   "source": [
    "Q3vol= np.quantile(df['Volume'],0.75)\n",
    "Q3vol"
   ]
  },
  {
   "cell_type": "code",
   "execution_count": 229,
   "id": "81e54b70-721f-47da-86fe-e3ac831a1e65",
   "metadata": {},
   "outputs": [
    {
     "data": {
      "text/plain": [
       "3.0"
      ]
     },
     "execution_count": 229,
     "metadata": {},
     "output_type": "execute_result"
    }
   ],
   "source": [
    "# Inter Quantile Range\n",
    "IQRv=Q3vol-Q1vol\n",
    "IQRv"
   ]
  },
  {
   "cell_type": "code",
   "execution_count": 230,
   "id": "0786f31a-4798-40ea-9410-b73518a2eae4",
   "metadata": {},
   "outputs": [
    {
     "data": {
      "text/plain": [
       "-1.5"
      ]
     },
     "execution_count": 230,
     "metadata": {},
     "output_type": "execute_result"
    }
   ],
   "source": [
    "Lower_extreme_V=Q1vol-IQRv*1.5\n",
    "Lower_extreme_V"
   ]
  },
  {
   "cell_type": "code",
   "execution_count": 231,
   "id": "b63bd81f-d78b-44b8-ba73-dd18e6171295",
   "metadata": {},
   "outputs": [
    {
     "data": {
      "text/plain": [
       "10.5"
      ]
     },
     "execution_count": 231,
     "metadata": {},
     "output_type": "execute_result"
    }
   ],
   "source": [
    "Upper_extreme_v=Q3vol+IQRv*1.5\n",
    "Upper_extreme_v"
   ]
  },
  {
   "cell_type": "code",
   "execution_count": null,
   "id": "d057aca0-b79e-4528-b7ec-0702f8b54386",
   "metadata": {},
   "outputs": [],
   "source": [
    "## The Volume column has outliers above the upper extreme values\n",
    "## THE Distribution of values are normal"
   ]
  },
  {
   "cell_type": "code",
   "execution_count": 119,
   "id": "ff0d1c11-c0c7-41a0-bb3f-d6bbadfa947a",
   "metadata": {},
   "outputs": [
    {
     "data": {
      "text/plain": [
       "425"
      ]
     },
     "execution_count": 119,
     "metadata": {},
     "output_type": "execute_result"
    }
   ],
   "source": [
    "df['Avg Price'].duplicated().sum()"
   ]
  },
  {
   "cell_type": "code",
   "execution_count": 123,
   "id": "4b1e1af4-06ed-409f-a1c9-e162c15532e1",
   "metadata": {},
   "outputs": [
    {
     "data": {
      "text/plain": [
       "Avg Price\n",
       "450      30\n",
       "8100     30\n",
       "1300     30\n",
       "400      30\n",
       "500      30\n",
       "12100    15\n",
       "1900     15\n",
       "1600     15\n",
       "2600     15\n",
       "2099     15\n",
       "900      15\n",
       "1099     15\n",
       "560      15\n",
       "465      15\n",
       "290      15\n",
       "10100    15\n",
       "390      15\n",
       "300      15\n",
       "60100    15\n",
       "55100    15\n",
       "54100    15\n",
       "49100    15\n",
       "20100    15\n",
       "16100    15\n",
       "3100     15\n",
       "Name: count, dtype: int64"
      ]
     },
     "execution_count": 123,
     "metadata": {},
     "output_type": "execute_result"
    }
   ],
   "source": [
    "df['Avg Price'].value_counts()"
   ]
  },
  {
   "cell_type": "code",
   "execution_count": 82,
   "id": "f1f5e21c-4854-4d10-9d79-d0b7f373fe7e",
   "metadata": {},
   "outputs": [
    {
     "data": {
      "text/plain": [
       "<Axes: >"
      ]
     },
     "execution_count": 82,
     "metadata": {},
     "output_type": "execute_result"
    },
    {
     "data": {
      "image/png": "[encoded data removed]",
      "text/plain": [
       "<Figure size 640x480 with 1 Axes>"
      ]
     },
     "metadata": {},
     "output_type": "display_data"
    }
   ],
   "source": [
    "df.boxplot('Avg Price')"
   ]
  },
  {
   "cell_type": "code",
   "execution_count": 220,
   "id": "00858e29-26be-4c4e-b762-d57587e17b92",
   "metadata": {},
   "outputs": [
    {
     "data": {
      "text/plain": [
       "1450.0"
      ]
     },
     "execution_count": 220,
     "metadata": {},
     "output_type": "execute_result"
    }
   ],
   "source": [
    "Q2Avg=np.quantile(df['Avg Price'],0.5)\n",
    "Q2Avg"
   ]
  },
  {
   "cell_type": "code",
   "execution_count": 219,
   "id": "9fd4a43e-e0e0-43bb-b7bd-ddb15f06e706",
   "metadata": {},
   "outputs": [
    {
     "data": {
      "text/plain": [
       "465.0"
      ]
     },
     "execution_count": 219,
     "metadata": {},
     "output_type": "execute_result"
    }
   ],
   "source": [
    "Q1Avg= np.quantile(df['Avg Price'],0.25)\n",
    "Q1Avg"
   ]
  },
  {
   "cell_type": "code",
   "execution_count": 221,
   "id": "99bead92-ac37-4200-a0ca-a52399ec8bfd",
   "metadata": {},
   "outputs": [
    {
     "data": {
      "text/plain": [
       "10100.0"
      ]
     },
     "execution_count": 221,
     "metadata": {},
     "output_type": "execute_result"
    }
   ],
   "source": [
    "Q3Avg= np.quantile(df['Avg Price'],0.75)\n",
    "Q3Avg"
   ]
  },
  {
   "cell_type": "code",
   "execution_count": 222,
   "id": "ec1b794e-a21e-4a68-80a2-8cbb7daf9e84",
   "metadata": {},
   "outputs": [
    {
     "data": {
      "text/plain": [
       "9635.0"
      ]
     },
     "execution_count": 222,
     "metadata": {},
     "output_type": "execute_result"
    }
   ],
   "source": [
    "# Inter Quantile Range\n",
    "IQRa=Q3Avg-Q1Avg\n",
    "IQRa"
   ]
  },
  {
   "cell_type": "code",
   "execution_count": 223,
   "id": "93792805-689e-4015-b81b-a5d44baeba74",
   "metadata": {},
   "outputs": [
    {
     "data": {
      "text/plain": [
       "-13987.5"
      ]
     },
     "execution_count": 223,
     "metadata": {},
     "output_type": "execute_result"
    }
   ],
   "source": [
    "Lower_extreme_a= Q1Avg-IQRa*1.5\n",
    "Lower_extreme_a"
   ]
  },
  {
   "cell_type": "code",
   "execution_count": 225,
   "id": "3683d147-6c57-4be0-b8ef-1d218fd81872",
   "metadata": {},
   "outputs": [
    {
     "data": {
      "text/plain": [
       "24552.5"
      ]
     },
     "execution_count": 225,
     "metadata": {},
     "output_type": "execute_result"
    }
   ],
   "source": [
    "Upper_extreme_a=Q3Avg+IQRa*1.5\n",
    "Upper_extreme_a"
   ]
  },
  {
   "cell_type": "code",
   "execution_count": null,
   "id": "6f83f56d-e9f2-4ef4-abc6-65064b62f03b",
   "metadata": {},
   "outputs": [],
   "source": [
    "# The Avg price has certain Outliers but with wide range they have extreme values \n",
    "# Distribution is normal"
   ]
  },
  {
   "cell_type": "code",
   "execution_count": null,
   "id": "f824cd39-25f4-4f52-a785-5964332a94a3",
   "metadata": {},
   "outputs": [],
   "source": []
  },
  {
   "cell_type": "code",
   "execution_count": 137,
   "id": "1a07a329-16e5-4427-9f63-609a0d40b408",
   "metadata": {},
   "outputs": [
    {
     "data": {
      "text/plain": [
       "315"
      ]
     },
     "execution_count": 137,
     "metadata": {},
     "output_type": "execute_result"
    }
   ],
   "source": [
    "df['Total Sales Value'].duplicated().sum()"
   ]
  },
  {
   "cell_type": "code",
   "execution_count": 162,
   "id": "8171ab7a-b20c-41bf-bef5-16e63160a7db",
   "metadata": {},
   "outputs": [
    {
     "data": {
      "text/plain": [
       "Total Sales Value\n",
       "24300     14\n",
       "3900      11\n",
       "147300    11\n",
       "4500      11\n",
       "800        9\n",
       "          ..\n",
       "20200      1\n",
       "5115       1\n",
       "580        1\n",
       "2240       1\n",
       "2325       1\n",
       "Name: count, Length: 135, dtype: int64"
      ]
     },
     "execution_count": 162,
     "metadata": {},
     "output_type": "execute_result"
    }
   ],
   "source": [
    "df['Total Sales Value'].value_counts()"
   ]
  },
  {
   "cell_type": "code",
   "execution_count": 164,
   "id": "aedf597d-6aee-498b-b97d-bdc18eb34bbc",
   "metadata": {},
   "outputs": [
    {
     "data": {
      "text/plain": [
       "array([181500, 101000, 112700, 120600,  24300, 147300, 108200, 110200,\n",
       "       180300,   5200,   1200,   1560,   4185,   1450,   2250,   1500,\n",
       "          560,   4396,   4500,   4000,   6300,   6500,  10495,  13000,\n",
       "         4800,   1900,   9300, 133100,  80800,  16200,  54100, 165300,\n",
       "        11600,   2400,   2340,   2030,   1350,    400,   1120,   3297,\n",
       "         5850,   3600,   7800,  14693,  10400,   6200,  60500,  50500,\n",
       "        80500, 100500,  32400, 196400,  55100, 120200,   9600,   4200,\n",
       "         2790,   1740,   2700,   2500,   5400,   6297,   3900,  15600,\n",
       "         5700,   3100, 108900,  90900,  48300,  10000,   4290,   3255,\n",
       "         1800,   2000,   1600,   1680,   1099,   5000,   3200,  36300,\n",
       "        60600,  60300, 162300,   6000,   2100,   3720,   1160,    800,\n",
       "         2198,   8396,  84700,  64400,  40500,  98200,   3120,    930,\n",
       "          870,   1000,   3000, 145200,  20200,  80400,   8800,   5115,\n",
       "          580,   2240,   3800, 169400,  70700,  48600,  60100,   3300,\n",
       "         3150,  12594, 140700,  12400,   2730,   1860,   2320,    900,\n",
       "         7200,   2600,   4680,  96600,    600,  48400,   1170,   5600,\n",
       "         6400,   1950,   6750,   3500, 157300,   5100,   2325],\n",
       "      dtype=int64)"
      ]
     },
     "execution_count": 164,
     "metadata": {},
     "output_type": "execute_result"
    }
   ],
   "source": [
    "df['Total Sales Value'].unique()"
   ]
  },
  {
   "cell_type": "code",
   "execution_count": 83,
   "id": "414bddf5-c3f7-48b8-8d1b-f397e7ee2111",
   "metadata": {},
   "outputs": [
    {
     "data": {
      "text/plain": [
       "<Axes: >"
      ]
     },
     "execution_count": 83,
     "metadata": {},
     "output_type": "execute_result"
    },
    {
     "data": {
      "image/png": "[encoded data removed]",
      "text/plain": [
       "<Figure size 640x480 with 1 Axes>"
      ]
     },
     "metadata": {},
     "output_type": "display_data"
    }
   ],
   "source": [
    "df.boxplot('Total Sales Value')  "
   ]
  },
  {
   "cell_type": "code",
   "execution_count": 214,
   "id": "d7602272-31ea-4a1b-86a4-1ee2a717502a",
   "metadata": {},
   "outputs": [],
   "source": [
    "Q2tsv= np.quantile(df['Total Sales Value'],0.5)"
   ]
  },
  {
   "cell_type": "code",
   "execution_count": 213,
   "id": "665a7d6f-46ad-4fc2-acd3-17693a657c84",
   "metadata": {},
   "outputs": [],
   "source": [
    "Q1tsv= np.quantile(df['Total Sales Value'],0.25)"
   ]
  },
  {
   "cell_type": "code",
   "execution_count": 215,
   "id": "75528b25-f2f7-4007-bf71-a694ed5fe2c9",
   "metadata": {},
   "outputs": [],
   "source": [
    "Q3tsv= np.quantile(df['Total Sales Value'],0.75)"
   ]
  },
  {
   "cell_type": "code",
   "execution_count": 216,
   "id": "6b2b5b03-a866-4ccf-ba16-5f2a009d808f",
   "metadata": {},
   "outputs": [
    {
     "data": {
      "text/plain": [
       "50500.0"
      ]
     },
     "execution_count": 216,
     "metadata": {},
     "output_type": "execute_result"
    }
   ],
   "source": [
    "IQRtsv= Q3tsv-Q1tsv\n",
    "IQRtsv"
   ]
  },
  {
   "cell_type": "code",
   "execution_count": 217,
   "id": "a7875b03-01d1-484c-9db3-947829345155",
   "metadata": {},
   "outputs": [
    {
     "data": {
      "text/plain": [
       "-73050.0"
      ]
     },
     "execution_count": 217,
     "metadata": {},
     "output_type": "execute_result"
    }
   ],
   "source": [
    "lower_extreme_tsv= Q1tsv-IQRtsv*1.5\n",
    "lower_extreme_tsv"
   ]
  },
  {
   "cell_type": "code",
   "execution_count": 218,
   "id": "f9a4062c-d8b0-4a97-a31f-b6e7b27e06b6",
   "metadata": {},
   "outputs": [
    {
     "data": {
      "text/plain": [
       "128950.0"
      ]
     },
     "execution_count": 218,
     "metadata": {},
     "output_type": "execute_result"
    }
   ],
   "source": [
    "upper_extreme_tsv=Q3tsv+IQRtsv*1.5\n",
    "upper_extreme_tsv"
   ]
  },
  {
   "cell_type": "code",
   "execution_count": 172,
   "id": "959e7b47-6405-4db2-8d38-aa3e640815b3",
   "metadata": {},
   "outputs": [],
   "source": [
    "## Data have outliers"
   ]
  },
  {
   "cell_type": "code",
   "execution_count": null,
   "id": "ecc2234d-48d9-40bb-b6cc-c377aa8e16a7",
   "metadata": {},
   "outputs": [],
   "source": []
  },
  {
   "cell_type": "code",
   "execution_count": 140,
   "id": "a7082b18-cef9-4e82-8e3a-984c0f1c1389",
   "metadata": {},
   "outputs": [
    {
     "data": {
      "text/plain": [
       "0"
      ]
     },
     "execution_count": 140,
     "metadata": {},
     "output_type": "execute_result"
    }
   ],
   "source": [
    "df['Discount Rate (%)'].duplicated().sum()"
   ]
  },
  {
   "cell_type": "code",
   "execution_count": 146,
   "id": "48161c53-40e6-41c1-ae63-fb3a62895dfe",
   "metadata": {},
   "outputs": [
    {
     "data": {
      "text/plain": [
       "Discount Rate (%)\n",
       "11.654820    1\n",
       "9.791440     1\n",
       "6.106931     1\n",
       "8.394469     1\n",
       "19.940610    1\n",
       "            ..\n",
       "18.092168    1\n",
       "17.379604    1\n",
       "18.939784    1\n",
       "16.121597    1\n",
       "15.333300    1\n",
       "Name: count, Length: 450, dtype: int64"
      ]
     },
     "execution_count": 146,
     "metadata": {},
     "output_type": "execute_result"
    }
   ],
   "source": [
    "df['Discount Rate (%)'].value_counts()"
   ]
  },
  {
   "cell_type": "code",
   "execution_count": 84,
   "id": "767c41a9-221f-450c-a35c-ed730e203a01",
   "metadata": {},
   "outputs": [
    {
     "data": {
      "text/plain": [
       "<Axes: >"
      ]
     },
     "execution_count": 84,
     "metadata": {},
     "output_type": "execute_result"
    },
    {
     "data": {
      "image/png": "[encoded data removed]",
      "text/plain": [
       "<Figure size 640x480 with 1 Axes>"
      ]
     },
     "metadata": {},
     "output_type": "display_data"
    }
   ],
   "source": [
    "df.boxplot('Discount Rate (%)')"
   ]
  },
  {
   "cell_type": "code",
   "execution_count": 205,
   "id": "a73a95c8-3ed6-44c3-b7ad-886d87cd82d6",
   "metadata": {},
   "outputs": [],
   "source": [
    "Q2dr=np.quantile(df['Discount Rate (%)'],0.5)"
   ]
  },
  {
   "cell_type": "code",
   "execution_count": 206,
   "id": "6273f296-8478-4fde-9c4e-c5df264e913b",
   "metadata": {},
   "outputs": [],
   "source": [
    "Q1dr=np.quantile(df['Discount Rate (%)'],0.25)"
   ]
  },
  {
   "cell_type": "code",
   "execution_count": 207,
   "id": "58d7aa74-0752-460a-970f-b8f6a984bcb1",
   "metadata": {},
   "outputs": [],
   "source": [
    "Q3dr=np.quantile(df['Discount Rate (%)'],0.75)"
   ]
  },
  {
   "cell_type": "code",
   "execution_count": 208,
   "id": "b21de6be-64e4-4297-a763-7ff9b6b0d1de",
   "metadata": {},
   "outputs": [
    {
     "data": {
      "text/plain": [
       "4.149655934050962"
      ]
     },
     "execution_count": 208,
     "metadata": {},
     "output_type": "execute_result"
    }
   ],
   "source": [
    "IQRdr=Q3dr-Q1dr\n",
    "IQRdr"
   ]
  },
  {
   "cell_type": "code",
   "execution_count": 209,
   "id": "0a21f2b2-e411-4699-9d23-bccba8833f69",
   "metadata": {},
   "outputs": [
    {
     "data": {
      "text/plain": [
       "7.740578642625298"
      ]
     },
     "execution_count": 209,
     "metadata": {},
     "output_type": "execute_result"
    }
   ],
   "source": [
    "lower_extreme_dr=Q1dr-IQRdr*1.5\n",
    "lower_extreme_dr"
   ]
  },
  {
   "cell_type": "code",
   "execution_count": 211,
   "id": "6c45b4e7-505d-4c6c-b499-9e3490702b96",
   "metadata": {},
   "outputs": [
    {
     "data": {
      "text/plain": [
       "24.339202378829146"
      ]
     },
     "execution_count": 211,
     "metadata": {},
     "output_type": "execute_result"
    }
   ],
   "source": [
    "upper_extreme_dr=Q3dr+IQRdr*1.5\n",
    "upper_extreme_dr"
   ]
  },
  {
   "cell_type": "code",
   "execution_count": 158,
   "id": "ff8e3a87-e21d-4c66-8e9a-292e4617b578",
   "metadata": {},
   "outputs": [],
   "source": [
    "## Discount rate column has too many ouliers\n",
    "## Distribution is uneven"
   ]
  },
  {
   "cell_type": "code",
   "execution_count": null,
   "id": "bd922116-6670-4525-85f5-55cf9fc51c2b",
   "metadata": {},
   "outputs": [],
   "source": []
  },
  {
   "cell_type": "code",
   "execution_count": 159,
   "id": "f128bd56-2092-4961-b167-dbc3d94fdd35",
   "metadata": {},
   "outputs": [
    {
     "data": {
      "text/plain": [
       "0"
      ]
     },
     "execution_count": 159,
     "metadata": {},
     "output_type": "execute_result"
    }
   ],
   "source": [
    "df['Discount Amount'].duplicated().sum()"
   ]
  },
  {
   "cell_type": "code",
   "execution_count": 160,
   "id": "a053e183-4c69-4ca8-b7b9-c6ebdf8a5c97",
   "metadata": {},
   "outputs": [
    {
     "data": {
      "text/plain": [
       "Discount Amount\n",
       "21153.498820    1\n",
       "5297.169083     1\n",
       "3303.849511     1\n",
       "12365.053308    1\n",
       "4845.568296     1\n",
       "               ..\n",
       "1881.585496     1\n",
       "903.739433      1\n",
       "1590.184282     1\n",
       "1047.903783     1\n",
       "475.332295      1\n",
       "Name: count, Length: 450, dtype: int64"
      ]
     },
     "execution_count": 160,
     "metadata": {},
     "output_type": "execute_result"
    }
   ],
   "source": [
    "df['Discount Amount'].value_counts()"
   ]
  },
  {
   "cell_type": "code",
   "execution_count": 85,
   "id": "5213e168-9005-4b82-8c10-ea4f9f47aa6c",
   "metadata": {},
   "outputs": [
    {
     "data": {
      "text/plain": [
       "<Axes: >"
      ]
     },
     "execution_count": 85,
     "metadata": {},
     "output_type": "execute_result"
    },
    {
     "data": {
      "image/png": "[encoded data removed]",
      "text/plain": [
       "<Figure size 640x480 with 1 Axes>"
      ]
     },
     "metadata": {},
     "output_type": "display_data"
    }
   ],
   "source": [
    "df.boxplot('Discount Amount')"
   ]
  },
  {
   "cell_type": "code",
   "execution_count": 201,
   "id": "0c8a9809-621b-44cc-a048-7ff3273e64e7",
   "metadata": {},
   "outputs": [],
   "source": [
    "Q2da=np.quantile(df['Discount Amount'],0.5)"
   ]
  },
  {
   "cell_type": "code",
   "execution_count": 199,
   "id": "0a0f11d5-91b4-4ff8-bd0e-195ce68332fe",
   "metadata": {},
   "outputs": [
    {
     "data": {
      "text/plain": [
       "460.4593038855329"
      ]
     },
     "execution_count": 199,
     "metadata": {},
     "output_type": "execute_result"
    }
   ],
   "source": [
    "Q1da=np.quantile(df['Discount Amount'],0.25)\n",
    "Q1da"
   ]
  },
  {
   "cell_type": "code",
   "execution_count": 202,
   "id": "2c901115-ea13-4d10-8b82-89b415dde787",
   "metadata": {},
   "outputs": [],
   "source": [
    "Q3da=np.quantile(df['Discount Amount'],0.75)"
   ]
  },
  {
   "cell_type": "code",
   "execution_count": 203,
   "id": "9d75460d-0ccc-4d83-83ed-e05558d4b5c3",
   "metadata": {},
   "outputs": [
    {
     "data": {
      "text/plain": [
       "4856.03612280112"
      ]
     },
     "execution_count": 203,
     "metadata": {},
     "output_type": "execute_result"
    }
   ],
   "source": [
    "IQRda=Q3da-Q1da\n",
    "IQRda"
   ]
  },
  {
   "cell_type": "code",
   "execution_count": 233,
   "id": "aaaccc31-cb83-4794-9e76-c19ca1430f7e",
   "metadata": {},
   "outputs": [
    {
     "data": {
      "text/plain": [
       "-6823.594880316146"
      ]
     },
     "execution_count": 233,
     "metadata": {},
     "output_type": "execute_result"
    }
   ],
   "source": [
    "lower_extreme_da= Q1da-IQRda*1.5\n",
    "lower_extreme_da"
   ]
  },
  {
   "cell_type": "code",
   "execution_count": 204,
   "id": "db5fce0b-853c-4ea6-9acf-b0f52ecd1d62",
   "metadata": {},
   "outputs": [
    {
     "data": {
      "text/plain": [
       "12600.54961088833"
      ]
     },
     "execution_count": 204,
     "metadata": {},
     "output_type": "execute_result"
    }
   ],
   "source": [
    "upper_extreme_da= Q3da+IQRda*1.5\n",
    "upper_extreme_da"
   ]
  },
  {
   "cell_type": "code",
   "execution_count": 181,
   "id": "0acb4aa2-723e-40a3-b741-d28334bf92a1",
   "metadata": {},
   "outputs": [],
   "source": [
    "# It has outliers but distribution is normal"
   ]
  },
  {
   "cell_type": "code",
   "execution_count": null,
   "id": "8e5975eb-63b7-4274-8a34-7d6d17e76e65",
   "metadata": {},
   "outputs": [],
   "source": []
  },
  {
   "cell_type": "code",
   "execution_count": 182,
   "id": "d7a0b2ed-7dbc-458b-bf58-a85d21f092c1",
   "metadata": {},
   "outputs": [
    {
     "data": {
      "text/plain": [
       "0"
      ]
     },
     "execution_count": 182,
     "metadata": {},
     "output_type": "execute_result"
    }
   ],
   "source": [
    "df['Net Sales Value'].duplicated().sum()"
   ]
  },
  {
   "cell_type": "code",
   "execution_count": 183,
   "id": "2b60c6ad-c790-43a5-b95d-abc385940771",
   "metadata": {},
   "outputs": [
    {
     "data": {
      "text/plain": [
       "Net Sales Value\n",
       "160346.501180    1\n",
       "48802.830917     1\n",
       "50796.150489     1\n",
       "134934.946692    1\n",
       "19454.431704     1\n",
       "                ..\n",
       "8518.414504      1\n",
       "4296.260567      1\n",
       "6805.815718      1\n",
       "5452.096217      1\n",
       "2624.667705      1\n",
       "Name: count, Length: 450, dtype: int64"
      ]
     },
     "execution_count": 183,
     "metadata": {},
     "output_type": "execute_result"
    }
   ],
   "source": [
    "df['Net Sales Value'].value_counts()"
   ]
  },
  {
   "cell_type": "code",
   "execution_count": 86,
   "id": "6faa993a-e712-44c1-bd89-d740d0f38f0e",
   "metadata": {},
   "outputs": [
    {
     "data": {
      "text/plain": [
       "<Axes: >"
      ]
     },
     "execution_count": 86,
     "metadata": {},
     "output_type": "execute_result"
    },
    {
     "data": {
      "image/png": "[encoded data removed]",
      "text/plain": [
       "<Figure size 640x480 with 1 Axes>"
      ]
     },
     "metadata": {},
     "output_type": "display_data"
    }
   ],
   "source": [
    "df.boxplot('Net Sales Value')"
   ]
  },
  {
   "cell_type": "code",
   "execution_count": 188,
   "id": "afa38b99-5ff4-4ae9-888a-cfc13473bf6a",
   "metadata": {},
   "outputs": [],
   "source": [
    "Q1nsv=np.quantile(df['Net Sales Value'],0.25)"
   ]
  },
  {
   "cell_type": "code",
   "execution_count": 189,
   "id": "db514057-4ed4-4780-bcc9-61cfe0c8da7d",
   "metadata": {},
   "outputs": [],
   "source": [
    "Q2nsv=np.quantile(df['Net Sales Value'],0.5)"
   ]
  },
  {
   "cell_type": "code",
   "execution_count": 190,
   "id": "fbe890fe-ed96-493c-9dad-4687f7dc9183",
   "metadata": {},
   "outputs": [],
   "source": [
    "Q3nsv=np.quantile(df['Net Sales Value'],0.75)"
   ]
  },
  {
   "cell_type": "code",
   "execution_count": 191,
   "id": "7636da3a-3db7-4f18-a85c-12f94f526316",
   "metadata": {},
   "outputs": [
    {
     "data": {
      "text/plain": [
       "45645.70420627015"
      ]
     },
     "execution_count": 191,
     "metadata": {},
     "output_type": "execute_result"
    }
   ],
   "source": [
    "IQRnsv= Q3nsv-Q1nsv\n",
    "IQRnsv"
   ]
  },
  {
   "cell_type": "code",
   "execution_count": 232,
   "id": "8e6f0692-8a1c-457a-b4bd-ae96f9503352",
   "metadata": {},
   "outputs": [
    {
     "data": {
      "text/plain": [
       "-66266.347664084"
      ]
     },
     "execution_count": 232,
     "metadata": {},
     "output_type": "execute_result"
    }
   ],
   "source": [
    "Lower_extreme_nsv= Q1nsv-IQRnsv*1.5\n",
    "Lower_extreme_nsv"
   ]
  },
  {
   "cell_type": "code",
   "execution_count": 196,
   "id": "4de38e17-4166-476c-a763-e79a20fe5a2b",
   "metadata": {},
   "outputs": [
    {
     "data": {
      "text/plain": [
       "116316.46916099661"
      ]
     },
     "execution_count": 196,
     "metadata": {},
     "output_type": "execute_result"
    }
   ],
   "source": [
    "Upper_extreme_nsv= Q3nsv+IQRnsv*1.5\n",
    "Upper_extreme_nsv"
   ]
  },
  {
   "cell_type": "markdown",
   "id": "04934536-17da-4343-b15f-79a71e843b5d",
   "metadata": {},
   "source": [
    "### Barchart"
   ]
  },
  {
   "cell_type": "code",
   "execution_count": 245,
   "id": "be14a3e7-1226-4ebe-af0c-ae4692ffd9dd",
   "metadata": {},
   "outputs": [
    {
     "data": {
      "text/plain": [
       "<Axes: xlabel='Brand'>"
      ]
     },
     "execution_count": 245,
     "metadata": {},
     "output_type": "execute_result"
    },
    {
     "data": {
      "image/png": "[encoded data removed]",
      "text/plain": [
       "<Figure size 640x480 with 1 Axes>"
      ]
     },
     "metadata": {},
     "output_type": "display_data"
    }
   ],
   "source": [
    "df['Brand'].value_counts().plot(kind='bar',color='red')"
   ]
  },
  {
   "cell_type": "code",
   "execution_count": 250,
   "id": "cddc9f22-39c3-4799-b958-9c664f124ee0",
   "metadata": {},
   "outputs": [],
   "source": [
    "## Above chart shows the highest and lowest Brand count sold"
   ]
  },
  {
   "cell_type": "code",
   "execution_count": 243,
   "id": "91bf252d-c524-4d5e-87ff-ee915c8184d5",
   "metadata": {},
   "outputs": [
    {
     "data": {
      "text/plain": [
       "<Axes: xlabel='BU'>"
      ]
     },
     "execution_count": 243,
     "metadata": {},
     "output_type": "execute_result"
    },
    {
     "data": {
      "image/png": "[encoded data removed]",
      "text/plain": [
       "<Figure size 640x480 with 1 Axes>"
      ]
     },
     "metadata": {},
     "output_type": "display_data"
    }
   ],
   "source": [
    "df['BU'].value_counts().plot(kind='bar')"
   ]
  },
  {
   "cell_type": "code",
   "execution_count": 248,
   "id": "71073c4e-f299-4253-b5bd-60d58bf197cb",
   "metadata": {},
   "outputs": [
    {
     "data": {
      "text/plain": [
       "<Axes: xlabel='Model'>"
      ]
     },
     "execution_count": 248,
     "metadata": {},
     "output_type": "execute_result"
    },
    {
     "data": {
      "image/png": "[encoded data removed]",
      "text/plain": [
       "<Figure size 640x480 with 1 Axes>"
      ]
     },
     "metadata": {},
     "output_type": "display_data"
    }
   ],
   "source": [
    "df['Model'].value_counts().plot(kind='bar',color='Green')"
   ]
  },
  {
   "cell_type": "code",
   "execution_count": 249,
   "id": "ca940a80-b214-4366-bbce-0512a32dd58a",
   "metadata": {},
   "outputs": [
    {
     "data": {
      "text/plain": [
       "<Axes: xlabel='SKU'>"
      ]
     },
     "execution_count": 249,
     "metadata": {},
     "output_type": "execute_result"
    },
    {
     "data": {
      "image/png": "[encoded data removed]",
      "text/plain": [
       "<Figure size 640x480 with 1 Axes>"
      ]
     },
     "metadata": {},
     "output_type": "display_data"
    }
   ],
   "source": [
    "df['SKU'].value_counts().plot(kind='bar',color='black')"
   ]
  },
  {
   "cell_type": "code",
   "execution_count": null,
   "id": "4ccfdb8c-dbd6-481b-b904-7e78f2a68cbd",
   "metadata": {},
   "outputs": [],
   "source": []
  }
 ],
 "metadata": {
  "kernelspec": {
   "display_name": "Python 3 (ipykernel)",
   "language": "python",
   "name": "python3"
  },
  "language_info": {
   "codemirror_mode": {
    "name": "ipython",
    "version": 3
   },
   "file_extension": ".py",
   "mimetype": "text/x-python",
   "name": "python",
   "nbconvert_exporter": "python",
   "pygments_lexer": "ipython3",
   "version": "3.11.7"
  }
 },
 "nbformat": 4,
 "nbformat_minor": 5
}
